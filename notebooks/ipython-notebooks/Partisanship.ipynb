{
 "cells": [
  {
   "cell_type": "markdown",
   "metadata": {
    "slideshow": {
     "slide_type": "slide"
    }
   },
   "source": [
    "# Effects of Swing Counties in 2016 Elections"
   ]
  },
  {
   "cell_type": "markdown",
   "metadata": {
    "slideshow": {
     "slide_type": "subslide"
    }
   },
   "source": [
    "## Project Description:\n",
    "   ### A WAY TO IDENTIFY THE EFFECT OF SWING COUNTIES IN PRESIDENTIAL ELECTIONS\n",
    "   #### *IN COLLABORATION WITH DATAFORDEMOCRACY.ORG*"
   ]
  },
  {
   "cell_type": "markdown",
   "metadata": {
    "slideshow": {
     "slide_type": "fragment"
    }
   },
   "source": [
    "`1. Which Counties have most and least Partisan Stickiness (aka Swing Districts) ?\n",
    "    a. How much did they comparatively change throughout the years?\n",
    "    b. Which States contain the highest number of swing counties?\n",
    "    c. Are there any similarities among these counties?`"
   ]
  },
  {
   "cell_type": "markdown",
   "metadata": {
    "slideshow": {
     "slide_type": "fragment"
    }
   },
   "source": [
    "`2. Did they change in last election and if they wouldn’t have would it have made a difference in outcome ?`"
   ]
  },
  {
   "cell_type": "markdown",
   "metadata": {
    "slideshow": {
     "slide_type": "fragment"
    }
   },
   "source": [
    "`3. Is there a correlation between visits/conferences/campaign stops/ spend/ media spots and the outcome in those districts`"
   ]
  },
  {
   "cell_type": "code",
   "execution_count": 9,
   "metadata": {
    "collapsed": false,
    "slideshow": {
     "slide_type": "skip"
    }
   },
   "outputs": [
    {
     "name": "stdout",
     "output_type": "stream",
     "text": [
      "The sql extension is already loaded. To reload it, use:\n",
      "  %reload_ext sql\n"
     ]
    }
   ],
   "source": [
    "import sys\n",
    "import pandas as pd\n",
    "import vincent #for mapping visualization\n",
    "%matplotlib inline\n",
    "import matplotlib\n",
    "import seaborn as sns\n",
    "matplotlib.rcParams['savefig.dpi'] = 144\n",
    "import datalab.context as _context\n",
    "\n",
    "%load_ext sql"
   ]
  },
  {
   "cell_type": "code",
   "execution_count": 10,
   "metadata": {
    "collapsed": false
   },
   "outputs": [
    {
     "data": {
      "text/plain": [
       "'/Library/Frameworks/Python.framework/Versions/3.5/bin/python3.5'"
      ]
     },
     "execution_count": 10,
     "metadata": {},
     "output_type": "execute_result"
    }
   ],
   "source": [
    "sys.executable "
   ]
  },
  {
   "cell_type": "markdown",
   "metadata": {
    "slideshow": {
     "slide_type": "slide"
    }
   },
   "source": [
    "## LET'S DIVE IN.."
   ]
  },
  {
   "cell_type": "markdown",
   "metadata": {
    "slideshow": {
     "slide_type": "notes"
    }
   },
   "source": [
    "`1. Which Counties have most and least Partisan Stickiness (aka Swing Districts) ?\n",
    "    a. How much did they comparatively change throughout the years?`"
   ]
  },
  {
   "cell_type": "code",
   "execution_count": 102,
   "metadata": {
    "collapsed": false,
    "slideshow": {
     "slide_type": "skip"
    }
   },
   "outputs": [
    {
     "name": "stdout",
     "output_type": "stream",
     "text": [
      "Done.\n",
      "Done.\n",
      "Done.\n",
      "Done.\n",
      "Done.\n",
      "Done.\n",
      "Done.\n",
      "Done.\n",
      "Done.\n"
     ]
    },
    {
     "data": {
      "text/plain": [
       "'Persisted county_location'"
      ]
     },
     "execution_count": 102,
     "metadata": {},
     "output_type": "execute_result"
    }
   ],
   "source": [
    "#LOAD DATA (https://data.world/data4democracy/election-transparency)\n",
    "#2016\n",
    "df2016 = pd.read_csv('https://query.data.world/s/3vp5gmo3ug9x59wr47fx1gmub')\n",
    "df2016['Year']='2016'\n",
    "df2016['WinningParty']='REPUBLICAN'\n",
    "%sql DROP TABLE IF EXISTS df2016\n",
    "%sql PERSIST df2016\n",
    "#2012\n",
    "df2012 = pd.read_csv('https://query.data.world/s/dgltmuho22eu8rlkb9tbnn0dk')\n",
    "df2012['Year']='2012'\n",
    "df2012['WinningParty']='DEMOCRATIC'\n",
    "%sql DROP TABLE IF EXISTS df2012\n",
    "%sql PERSIST df2012\n",
    "#2008\n",
    "df2008 = pd.read_csv('https://query.data.world/s/c890wd2828mvhswdcbfaw5fck')\n",
    "df2008['Year']='2008'\n",
    "df2008['WinningParty']='DEMOCRATIC'\n",
    "%sql DROP TABLE IF EXISTS df2008\n",
    "%sql PERSIST df2008\n",
    "#2004\n",
    "df2004 = pd.read_csv('https://query.data.world/s/bevzm2zktuu4i23kfg0dfniac')\n",
    "df2004['Year']='2004'\n",
    "df2004['WinningParty']='REPUBLICAN'\n",
    "%sql DROP TABLE IF EXISTS df2004\n",
    "%sql PERSIST df2004\n",
    "#2000\n",
    "df2000 = pd.read_csv('https://query.data.world/s/7zmmyj85musifvi7oa078q6w7')\n",
    "df2000['Year']='2000'\n",
    "df2000['WinningParty']='REPUBLICAN'\n",
    "%sql DROP TABLE IF EXISTS df2000\n",
    "%sql PERSIST df2000\n",
    "#1996\n",
    "df1996 = pd.read_csv('https://query.data.world/s/1funavj5yumqy63sz64rx78oe')\n",
    "df1996['Year']='1996'\n",
    "df1996['WinningParty']='DEMOCRATIC'\n",
    "%sql DROP TABLE IF EXISTS df1996\n",
    "%sql PERSIST df1996\n",
    "#1992\n",
    "df1992 = pd.read_csv('https://query.data.world/s/edk3n1z5foyca07g7gsa1z8ku')\n",
    "df1992['Year']='1992'\n",
    "df1992['WinningParty']='DEMOCRATIC'\n",
    "%sql DROP TABLE IF EXISTS df1992\n",
    "%sql PERSIST df1992\n",
    "#County Characteristics\n",
    "dfCC = pd.read_csv('https://query.data.world/s/br37igl4j53pvkcg6ntvubokm')\n",
    "%sql DROP TABLE IF EXISTS dfCC\n",
    "%sql PERSIST dfCC\n",
    "#Counties LAT & LONG (https://www.census.gov/geo/maps-data/data/gazetteer2015.html)\n",
    "county_location = pd.read_csv('https://query.data.world/s/8r3fodml0wubcixinvro5z9qy',sep='\\t')\n",
    "%sql DROP TABLE IF EXISTS county_location\n",
    "%sql PERSIST county_location"
   ]
  },
  {
   "cell_type": "code",
   "execution_count": 103,
   "metadata": {
    "collapsed": false
   },
   "outputs": [
    {
     "data": {
      "text/html": [
       "<div>\n",
       "<table border=\"1\" class=\"dataframe\">\n",
       "  <thead>\n",
       "    <tr style=\"text-align: right;\">\n",
       "      <th></th>\n",
       "      <th>USPS</th>\n",
       "      <th>GEOID</th>\n",
       "      <th>ANSICODE</th>\n",
       "      <th>NAME</th>\n",
       "      <th>ALAND</th>\n",
       "      <th>AWATER</th>\n",
       "      <th>ALAND_SQMI</th>\n",
       "      <th>AWATER_SQMI</th>\n",
       "      <th>INTPTLAT</th>\n",
       "      <th>INTPTLONG</th>\n",
       "    </tr>\n",
       "  </thead>\n",
       "  <tbody>\n",
       "    <tr>\n",
       "      <th>0</th>\n",
       "      <td>AL</td>\n",
       "      <td>1001</td>\n",
       "      <td>161526</td>\n",
       "      <td>Autauga County</td>\n",
       "      <td>1539589643</td>\n",
       "      <td>25769317</td>\n",
       "      <td>594.439</td>\n",
       "      <td>9.950</td>\n",
       "      <td>32.532237</td>\n",
       "      <td>-86.646440</td>\n",
       "    </tr>\n",
       "    <tr>\n",
       "      <th>1</th>\n",
       "      <td>AL</td>\n",
       "      <td>1003</td>\n",
       "      <td>161527</td>\n",
       "      <td>Baldwin County</td>\n",
       "      <td>4117584013</td>\n",
       "      <td>1133129224</td>\n",
       "      <td>1589.808</td>\n",
       "      <td>437.504</td>\n",
       "      <td>30.659218</td>\n",
       "      <td>-87.746067</td>\n",
       "    </tr>\n",
       "    <tr>\n",
       "      <th>2</th>\n",
       "      <td>AL</td>\n",
       "      <td>1005</td>\n",
       "      <td>161528</td>\n",
       "      <td>Barbour County</td>\n",
       "      <td>2291820706</td>\n",
       "      <td>50864677</td>\n",
       "      <td>884.877</td>\n",
       "      <td>19.639</td>\n",
       "      <td>31.870253</td>\n",
       "      <td>-85.405104</td>\n",
       "    </tr>\n",
       "    <tr>\n",
       "      <th>3</th>\n",
       "      <td>AL</td>\n",
       "      <td>1007</td>\n",
       "      <td>161529</td>\n",
       "      <td>Bibb County</td>\n",
       "      <td>1612481559</td>\n",
       "      <td>9287974</td>\n",
       "      <td>622.583</td>\n",
       "      <td>3.586</td>\n",
       "      <td>33.015893</td>\n",
       "      <td>-87.127148</td>\n",
       "    </tr>\n",
       "    <tr>\n",
       "      <th>4</th>\n",
       "      <td>AL</td>\n",
       "      <td>1009</td>\n",
       "      <td>161530</td>\n",
       "      <td>Blount County</td>\n",
       "      <td>1670041875</td>\n",
       "      <td>15077458</td>\n",
       "      <td>644.807</td>\n",
       "      <td>5.821</td>\n",
       "      <td>33.977358</td>\n",
       "      <td>-86.566440</td>\n",
       "    </tr>\n",
       "  </tbody>\n",
       "</table>\n",
       "</div>"
      ],
      "text/plain": [
       "  USPS  GEOID  ANSICODE            NAME       ALAND      AWATER  ALAND_SQMI  \\\n",
       "0   AL   1001    161526  Autauga County  1539589643    25769317     594.439   \n",
       "1   AL   1003    161527  Baldwin County  4117584013  1133129224    1589.808   \n",
       "2   AL   1005    161528  Barbour County  2291820706    50864677     884.877   \n",
       "3   AL   1007    161529     Bibb County  1612481559     9287974     622.583   \n",
       "4   AL   1009    161530   Blount County  1670041875    15077458     644.807   \n",
       "\n",
       "   AWATER_SQMI   INTPTLAT  \\\n",
       "0        9.950  32.532237   \n",
       "1      437.504  30.659218   \n",
       "2       19.639  31.870253   \n",
       "3        3.586  33.015893   \n",
       "4        5.821  33.977358   \n",
       "\n",
       "   INTPTLONG                                                                                                                 \n",
       "0                                         -86.646440                                                                         \n",
       "1                                         -87.746067                                                                         \n",
       "2                                         -85.405104                                                                         \n",
       "3                                         -87.127148                                                                         \n",
       "4                                         -86.566440                                                                         "
      ]
     },
     "execution_count": 103,
     "metadata": {},
     "output_type": "execute_result"
    }
   ],
   "source": [
    "county_location.head()"
   ]
  },
  {
   "cell_type": "code",
   "execution_count": 122,
   "metadata": {
    "collapsed": false,
    "slideshow": {
     "slide_type": "skip"
    }
   },
   "outputs": [
    {
     "data": {
      "text/html": [
       "<div>\n",
       "<table border=\"1\" class=\"dataframe\">\n",
       "  <thead>\n",
       "    <tr style=\"text-align: right;\">\n",
       "      <th></th>\n",
       "      <th>County</th>\n",
       "      <th>CountyName</th>\n",
       "      <th>clinton</th>\n",
       "      <th>dole</th>\n",
       "      <th>other</th>\n",
       "      <th>perot</th>\n",
       "      <th>totalvotes</th>\n",
       "      <th>dPct</th>\n",
       "      <th>rPct</th>\n",
       "      <th>otherPct</th>\n",
       "      <th>dDRPct</th>\n",
       "      <th>rDRPct</th>\n",
       "      <th>leanD</th>\n",
       "      <th>leanR</th>\n",
       "      <th>Year</th>\n",
       "      <th>WinningParty</th>\n",
       "    </tr>\n",
       "  </thead>\n",
       "  <tbody>\n",
       "    <tr>\n",
       "      <th>0</th>\n",
       "      <td>1001</td>\n",
       "      <td>Autauga</td>\n",
       "      <td>5015</td>\n",
       "      <td>9509</td>\n",
       "      <td>85</td>\n",
       "      <td>813</td>\n",
       "      <td>15422</td>\n",
       "      <td>0.325185</td>\n",
       "      <td>0.616587</td>\n",
       "      <td>0.005512</td>\n",
       "      <td>0.345291</td>\n",
       "      <td>0.654709</td>\n",
       "      <td>0.527395</td>\n",
       "      <td>1.896112</td>\n",
       "      <td>1996</td>\n",
       "      <td>DEMOCRATIC</td>\n",
       "    </tr>\n",
       "    <tr>\n",
       "      <th>1</th>\n",
       "      <td>1003</td>\n",
       "      <td>Baldwin</td>\n",
       "      <td>12776</td>\n",
       "      <td>29487</td>\n",
       "      <td>336</td>\n",
       "      <td>4520</td>\n",
       "      <td>47119</td>\n",
       "      <td>0.271143</td>\n",
       "      <td>0.625799</td>\n",
       "      <td>0.007131</td>\n",
       "      <td>0.302298</td>\n",
       "      <td>0.697702</td>\n",
       "      <td>0.433276</td>\n",
       "      <td>2.307999</td>\n",
       "      <td>1996</td>\n",
       "      <td>DEMOCRATIC</td>\n",
       "    </tr>\n",
       "    <tr>\n",
       "      <th>2</th>\n",
       "      <td>1005</td>\n",
       "      <td>Barbour</td>\n",
       "      <td>4787</td>\n",
       "      <td>3627</td>\n",
       "      <td>24</td>\n",
       "      <td>515</td>\n",
       "      <td>8953</td>\n",
       "      <td>0.534681</td>\n",
       "      <td>0.405116</td>\n",
       "      <td>0.002681</td>\n",
       "      <td>0.568933</td>\n",
       "      <td>0.431067</td>\n",
       "      <td>1.319824</td>\n",
       "      <td>0.757677</td>\n",
       "      <td>1996</td>\n",
       "      <td>DEMOCRATIC</td>\n",
       "    </tr>\n",
       "    <tr>\n",
       "      <th>3</th>\n",
       "      <td>1007</td>\n",
       "      <td>Bibb</td>\n",
       "      <td>2775</td>\n",
       "      <td>3037</td>\n",
       "      <td>34</td>\n",
       "      <td>455</td>\n",
       "      <td>6301</td>\n",
       "      <td>0.440406</td>\n",
       "      <td>0.481987</td>\n",
       "      <td>0.005396</td>\n",
       "      <td>0.477460</td>\n",
       "      <td>0.522540</td>\n",
       "      <td>0.913731</td>\n",
       "      <td>1.094414</td>\n",
       "      <td>1996</td>\n",
       "      <td>DEMOCRATIC</td>\n",
       "    </tr>\n",
       "    <tr>\n",
       "      <th>4</th>\n",
       "      <td>1009</td>\n",
       "      <td>Blount</td>\n",
       "      <td>5061</td>\n",
       "      <td>9056</td>\n",
       "      <td>225</td>\n",
       "      <td>985</td>\n",
       "      <td>15327</td>\n",
       "      <td>0.330202</td>\n",
       "      <td>0.590853</td>\n",
       "      <td>0.014680</td>\n",
       "      <td>0.358504</td>\n",
       "      <td>0.641496</td>\n",
       "      <td>0.558856</td>\n",
       "      <td>1.789370</td>\n",
       "      <td>1996</td>\n",
       "      <td>DEMOCRATIC</td>\n",
       "    </tr>\n",
       "  </tbody>\n",
       "</table>\n",
       "</div>"
      ],
      "text/plain": [
       "   County CountyName  clinton   dole  other  perot  totalvotes      dPct  \\\n",
       "0    1001    Autauga     5015   9509     85    813       15422  0.325185   \n",
       "1    1003    Baldwin    12776  29487    336   4520       47119  0.271143   \n",
       "2    1005    Barbour     4787   3627     24    515        8953  0.534681   \n",
       "3    1007       Bibb     2775   3037     34    455        6301  0.440406   \n",
       "4    1009     Blount     5061   9056    225    985       15327  0.330202   \n",
       "\n",
       "       rPct  otherPct    dDRPct    rDRPct     leanD     leanR  Year  \\\n",
       "0  0.616587  0.005512  0.345291  0.654709  0.527395  1.896112  1996   \n",
       "1  0.625799  0.007131  0.302298  0.697702  0.433276  2.307999  1996   \n",
       "2  0.405116  0.002681  0.568933  0.431067  1.319824  0.757677  1996   \n",
       "3  0.481987  0.005396  0.477460  0.522540  0.913731  1.094414  1996   \n",
       "4  0.590853  0.014680  0.358504  0.641496  0.558856  1.789370  1996   \n",
       "\n",
       "  WinningParty  \n",
       "0   DEMOCRATIC  \n",
       "1   DEMOCRATIC  \n",
       "2   DEMOCRATIC  \n",
       "3   DEMOCRATIC  \n",
       "4   DEMOCRATIC  "
      ]
     },
     "execution_count": 122,
     "metadata": {},
     "output_type": "execute_result"
    }
   ],
   "source": [
    "#dfCC.head()\n",
    "#df2016.head()\n",
    "#len(df2016.index)+ len(df2012.index) + len(df2008.index)+len(df2000.index)+len(df1996.index)+len(df1992.index)\n",
    "#df2012.count()\n",
    "df1996.head()\n",
    "#dfall= pd.concat([df2016, df2012, df2008, df2004, df2000, df1996, df1992], ignore_index=True)\n",
    "#dfall.head()\n",
    "#dfall[dfall['Year']=='2012'].count()\n",
    "#%sql DROP TABLE IF EXISTS dfall\n",
    "#%sql PERSIST dfall"
   ]
  },
  {
   "cell_type": "code",
   "execution_count": 123,
   "metadata": {
    "collapsed": false,
    "slideshow": {
     "slide_type": "skip"
    }
   },
   "outputs": [
    {
     "name": "stdout",
     "output_type": "stream",
     "text": [
      "Done.\n"
     ]
    },
    {
     "data": {
      "text/html": [
       "<div>\n",
       "<table border=\"1\" class=\"dataframe\">\n",
       "  <thead>\n",
       "    <tr style=\"text-align: right;\">\n",
       "      <th></th>\n",
       "    </tr>\n",
       "  </thead>\n",
       "  <tbody>\n",
       "  </tbody>\n",
       "</table>\n",
       "</div>"
      ],
      "text/plain": [
       "Empty DataFrame\n",
       "Columns: []\n",
       "Index: []"
      ]
     },
     "execution_count": 123,
     "metadata": {},
     "output_type": "execute_result"
    }
   ],
   "source": [
    "%sql DROP TABLE IF EXISTS temp_county_results"
   ]
  },
  {
   "cell_type": "code",
   "execution_count": 125,
   "metadata": {
    "collapsed": false,
    "slideshow": {
     "slide_type": "skip"
    }
   },
   "outputs": [
    {
     "name": "stdout",
     "output_type": "stream",
     "text": [
      "Done.\n"
     ]
    },
    {
     "data": {
      "text/html": [
       "<div>\n",
       "<table border=\"1\" class=\"dataframe\">\n",
       "  <thead>\n",
       "    <tr style=\"text-align: right;\">\n",
       "      <th></th>\n",
       "    </tr>\n",
       "  </thead>\n",
       "  <tbody>\n",
       "  </tbody>\n",
       "</table>\n",
       "</div>"
      ],
      "text/plain": [
       "Empty DataFrame\n",
       "Columns: []\n",
       "Index: []"
      ]
     },
     "execution_count": 125,
     "metadata": {},
     "output_type": "execute_result"
    }
   ],
   "source": [
    "%%sql sqlite://\n",
    "    CREATE TABLE temp_county_results AS\n",
    "        SELECT distinct County, CountyName, StateAbbr, Year, WinningParty,totalvotes ,\n",
    "        CASE WHEN clinton>trump then 'DEMOCRAIC' WHEN clinton<trump then 'REPUBLICAN' ELSE 'OTHER' END as `WinningCounty`\n",
    "        FROM df2016\n",
    "        UNION ALL\n",
    "        SELECT distinct County, CountyName, StateAbbr,Year, WinningParty, totalvotes,\n",
    "        CASE WHEN obama>romney then 'DEMOCRAIC' WHEN obama<romney then 'REPUBLICAN' ELSE 'OTHER' END as `WinningCounty`\n",
    "        FROM df2012\n",
    "        UNION ALL\n",
    "        SELECT distinct County, CountyName, StateAbbr,Year, WinningParty, totalvotes,\n",
    "        CASE WHEN obama>mccain then 'DEMOCRAIC' WHEN obama<mccain then 'REPUBLICAN' ELSE 'OTHER' END as `WinningCounty`\n",
    "        FROM df2008\n",
    "        UNION ALL\n",
    "        SELECT distinct County, CountyName, StateAbbr,Year, WinningParty, totalvotes,\n",
    "        CASE WHEN kerry>bush then 'DEMOCRAIC' WHEN kerry<bush then 'REPUBLICAN' ELSE 'OTHER' END as `WinningCounty`\n",
    "        FROM df2004\n",
    "        UNION ALL\n",
    "        SELECT distinct County, CountyName, StateAbbr,Year, WinningParty, totalvotes,\n",
    "        CASE WHEN gore>bush then 'DEMOCRAIC' WHEN gore<bush then 'REPUBLICAN' ELSE 'OTHER' END as `WinningCounty`\n",
    "        FROM df2000\n",
    "        UNION ALL\n",
    "        SELECT distinct df1996.County, CountyName, StateAbbr,Year, WinningParty, totalvotes,\n",
    "        CASE WHEN clinton>dole then 'DEMOCRAIC' WHEN clinton<dole then 'REPUBLICAN' ELSE 'OTHER' END as `WinningCounty`\n",
    "        FROM df1996\n",
    "        join (select distinct County, StateAbbr from df2016)state on state.County=df1996.County\n",
    "        UNION ALL\n",
    "        SELECT distinct df1992.County, CountyName, state.StateAbbr,Year, WinningParty, totalvotes,\n",
    "        CASE WHEN clinton>bush then 'DEMOCRAIC' WHEN clinton<bush then 'REPUBLICAN' ELSE 'OTHER' END as `WinningCounty`\n",
    "        FROM df1992\n",
    "        join (select distinct County, StateAbbr from df2016)state on state.County=df1992.County"
   ]
  },
  {
   "cell_type": "code",
   "execution_count": 126,
   "metadata": {
    "collapsed": false,
    "slideshow": {
     "slide_type": "skip"
    }
   },
   "outputs": [
    {
     "name": "stdout",
     "output_type": "stream",
     "text": [
      "Done.\n"
     ]
    },
    {
     "data": {
      "text/html": [
       "<div>\n",
       "<table border=\"1\" class=\"dataframe\">\n",
       "  <thead>\n",
       "    <tr style=\"text-align: right;\">\n",
       "      <th></th>\n",
       "    </tr>\n",
       "  </thead>\n",
       "  <tbody>\n",
       "  </tbody>\n",
       "</table>\n",
       "</div>"
      ],
      "text/plain": [
       "Empty DataFrame\n",
       "Columns: []\n",
       "Index: []"
      ]
     },
     "execution_count": 126,
     "metadata": {},
     "output_type": "execute_result"
    }
   ],
   "source": [
    "%sql DROP TABLE IF EXISTS county_results"
   ]
  },
  {
   "cell_type": "code",
   "execution_count": 127,
   "metadata": {
    "collapsed": false,
    "slideshow": {
     "slide_type": "skip"
    }
   },
   "outputs": [
    {
     "name": "stdout",
     "output_type": "stream",
     "text": [
      "Done.\n"
     ]
    },
    {
     "data": {
      "text/html": [
       "<div>\n",
       "<table border=\"1\" class=\"dataframe\">\n",
       "  <thead>\n",
       "    <tr style=\"text-align: right;\">\n",
       "      <th></th>\n",
       "    </tr>\n",
       "  </thead>\n",
       "  <tbody>\n",
       "  </tbody>\n",
       "</table>\n",
       "</div>"
      ],
      "text/plain": [
       "Empty DataFrame\n",
       "Columns: []\n",
       "Index: []"
      ]
     },
     "execution_count": 127,
     "metadata": {},
     "output_type": "execute_result"
    }
   ],
   "source": [
    "%%sql sqlite://\n",
    "    CREATE TABLE county_results AS\n",
    "    SELECT County, CountyName, StateAbbr,\n",
    "    totalvotes_2016,\n",
    "    totalvotes_2012,\n",
    "    totalvotes_2008,\n",
    "    totalvotes_2004,\n",
    "    totalvotes_2000,\n",
    "    totalvotes_1996,\n",
    "    totalvotes_1992,\n",
    "    WinningCounty_2016,\n",
    "    WinningParty_2016,\n",
    "    WinningCounty_2012,\n",
    "    WinningParty_2012,\n",
    "    WinningCounty_2008,\n",
    "    WinningParty_2008,\n",
    "    WinningCounty_2004,\n",
    "    WinningParty_2004,\n",
    "    WinningCounty_2000,\n",
    "    WinningParty_2000,\n",
    "    WinningCounty_1996,\n",
    "    WinningParty_1996,\n",
    "    WinningCounty_1992,\n",
    "    WinningParty_1992,\n",
    "   (CASE WHEN WinningCounty_2016 != WinningCounty_2012 THEN 1 ELSE 0 END) +(CASE WHEN WinningCounty_2012 != WinningCounty_2008 THEN 1 ELSE 0 END) + (CASE WHEN WinningCounty_2008 != WinningCounty_2004 THEN 1 ELSE 0 END) + (CASE WHEN WinningCounty_2004 != WinningCounty_2000 THEN 1 ELSE 0 END) + (CASE WHEN WinningCounty_2000 != WinningCounty_1996 THEN 1 ELSE 0 END) + (CASE WHEN WinningCounty_1996 != WinningCounty_1992 THEN 1 ELSE 0 END) as durability\n",
    "    FROM (\n",
    "        SELECT County, Max(CountyName) as CountyName, StateAbbr, \n",
    "        MAX(CASE WHEN Year ='2016' THEN totalvotes END) as totalvotes_2016,\n",
    "        MAX(CASE WHEN Year ='2012' THEN totalvotes END) as totalvotes_2012,\n",
    "        MAX(CASE WHEN Year ='2008' THEN totalvotes END) as totalvotes_2008,\n",
    "        MAX(CASE WHEN Year ='2004' THEN totalvotes END) as totalvotes_2004,\n",
    "        MAX(CASE WHEN Year ='2000' THEN totalvotes END) as totalvotes_2000,\n",
    "        MAX(CASE WHEN Year ='1996' THEN totalvotes END) as totalvotes_1996,\n",
    "        MAX(CASE WHEN Year ='1992' THEN totalvotes END) as totalvotes_1992,\n",
    "        \n",
    "        MAX(CASE WHEN Year ='2016' THEN WinningCounty END) as WinningCounty_2016,\n",
    "        MAX(CASE WHEN Year ='2016' THEN WinningParty END) as WinningParty_2016,\n",
    "        MAX(CASE WHEN Year ='2012' THEN WinningCounty END) as WinningCounty_2012,\n",
    "        MAX(CASE WHEN Year ='2012' THEN WinningParty END) as WinningParty_2012,\n",
    "        MAX(CASE WHEN Year ='2008' THEN WinningCounty END) as WinningCounty_2008,\n",
    "        MAX(CASE WHEN Year ='2008' THEN WinningParty END) as WinningParty_2008,\n",
    "        MAX(CASE WHEN Year ='2004' THEN WinningCounty END) as WinningCounty_2004,\n",
    "        MAX(CASE WHEN Year ='2004' THEN WinningParty END) as WinningParty_2004,\n",
    "        MAX(CASE WHEN Year ='2000' THEN WinningCounty END) as WinningCounty_2000,\n",
    "        MAX(CASE WHEN Year ='2000' THEN WinningParty END) as WinningParty_2000,\n",
    "        MAX(CASE WHEN Year ='1996' THEN WinningCounty END) as WinningCounty_1996,\n",
    "        MAX(CASE WHEN Year ='1996' THEN WinningParty END) as WinningParty_1996,\n",
    "        MAX(CASE WHEN Year ='1992' THEN WinningCounty END) as WinningCounty_1992,\n",
    "        MAX(CASE WHEN Year ='1992' THEN WinningParty END) as WinningParty_1992\n",
    "        FROM temp_county_results\n",
    "        GROUP BY County, StateAbbr\n",
    "        ORDER BY County)\n",
    "\n",
    "   \n",
    "    \n",
    "    ORDER BY durability DESC\n"
   ]
  },
  {
   "cell_type": "code",
   "execution_count": 129,
   "metadata": {
    "collapsed": false,
    "slideshow": {
     "slide_type": "skip"
    }
   },
   "outputs": [
    {
     "name": "stdout",
     "output_type": "stream",
     "text": [
      "Done.\n",
      "Done.\n"
     ]
    },
    {
     "data": {
      "text/html": [
       "<div>\n",
       "<table border=\"1\" class=\"dataframe\">\n",
       "  <thead>\n",
       "    <tr style=\"text-align: right;\">\n",
       "      <th></th>\n",
       "      <th>County</th>\n",
       "      <th>CountyName</th>\n",
       "      <th>StateAbbr</th>\n",
       "      <th>totalvotes_2016</th>\n",
       "      <th>totalvotes_2012</th>\n",
       "      <th>totalvotes_2008</th>\n",
       "      <th>totalvotes_2004</th>\n",
       "      <th>totalvotes_2000</th>\n",
       "      <th>totalvotes_1996</th>\n",
       "      <th>totalvotes_1992</th>\n",
       "      <th>...</th>\n",
       "      <th>USPS</th>\n",
       "      <th>GEOID</th>\n",
       "      <th>ANSICODE</th>\n",
       "      <th>NAME</th>\n",
       "      <th>ALAND</th>\n",
       "      <th>AWATER</th>\n",
       "      <th>ALAND_SQMI</th>\n",
       "      <th>AWATER_SQMI</th>\n",
       "      <th>INTPTLAT</th>\n",
       "      <th>INTPTLONG</th>\n",
       "    </tr>\n",
       "  </thead>\n",
       "  <tbody>\n",
       "    <tr>\n",
       "      <th>0</th>\n",
       "      <td>None</td>\n",
       "      <td>Federal Overseas County</td>\n",
       "      <td>HI</td>\n",
       "      <td>NaN</td>\n",
       "      <td>NaN</td>\n",
       "      <td>NaN</td>\n",
       "      <td>NaN</td>\n",
       "      <td>80.0</td>\n",
       "      <td>NaN</td>\n",
       "      <td>NaN</td>\n",
       "      <td>...</td>\n",
       "      <td>None</td>\n",
       "      <td>NaN</td>\n",
       "      <td>NaN</td>\n",
       "      <td>None</td>\n",
       "      <td>NaN</td>\n",
       "      <td>NaN</td>\n",
       "      <td>NaN</td>\n",
       "      <td>NaN</td>\n",
       "      <td>NaN</td>\n",
       "      <td>NaN</td>\n",
       "    </tr>\n",
       "    <tr>\n",
       "      <th>1</th>\n",
       "      <td>1001</td>\n",
       "      <td>Autauga County</td>\n",
       "      <td>AL</td>\n",
       "      <td>24973.0</td>\n",
       "      <td>23937.0</td>\n",
       "      <td>23641.0</td>\n",
       "      <td>20081.0</td>\n",
       "      <td>17146.0</td>\n",
       "      <td>15422.0</td>\n",
       "      <td>15585.0</td>\n",
       "      <td>...</td>\n",
       "      <td>AL</td>\n",
       "      <td>1001.0</td>\n",
       "      <td>161526.0</td>\n",
       "      <td>Autauga County</td>\n",
       "      <td>1.539590e+09</td>\n",
       "      <td>2.576932e+07</td>\n",
       "      <td>594.439</td>\n",
       "      <td>9.950</td>\n",
       "      <td>32.532237</td>\n",
       "      <td>-86.646440</td>\n",
       "    </tr>\n",
       "    <tr>\n",
       "      <th>2</th>\n",
       "      <td>1003</td>\n",
       "      <td>Baldwin County</td>\n",
       "      <td>AL</td>\n",
       "      <td>95215.0</td>\n",
       "      <td>85353.5</td>\n",
       "      <td>81413.0</td>\n",
       "      <td>69320.0</td>\n",
       "      <td>56128.0</td>\n",
       "      <td>47119.0</td>\n",
       "      <td>46476.0</td>\n",
       "      <td>...</td>\n",
       "      <td>AL</td>\n",
       "      <td>1003.0</td>\n",
       "      <td>161527.0</td>\n",
       "      <td>Baldwin County</td>\n",
       "      <td>4.117584e+09</td>\n",
       "      <td>1.133129e+09</td>\n",
       "      <td>1589.808</td>\n",
       "      <td>437.504</td>\n",
       "      <td>30.659218</td>\n",
       "      <td>-87.746067</td>\n",
       "    </tr>\n",
       "    <tr>\n",
       "      <th>3</th>\n",
       "      <td>1005</td>\n",
       "      <td>Barbour County</td>\n",
       "      <td>AL</td>\n",
       "      <td>10469.0</td>\n",
       "      <td>11508.5</td>\n",
       "      <td>11630.0</td>\n",
       "      <td>10777.0</td>\n",
       "      <td>10357.0</td>\n",
       "      <td>8953.0</td>\n",
       "      <td>10431.0</td>\n",
       "      <td>...</td>\n",
       "      <td>AL</td>\n",
       "      <td>1005.0</td>\n",
       "      <td>161528.0</td>\n",
       "      <td>Barbour County</td>\n",
       "      <td>2.291821e+09</td>\n",
       "      <td>5.086468e+07</td>\n",
       "      <td>884.877</td>\n",
       "      <td>19.639</td>\n",
       "      <td>31.870253</td>\n",
       "      <td>-85.405104</td>\n",
       "    </tr>\n",
       "    <tr>\n",
       "      <th>4</th>\n",
       "      <td>1007</td>\n",
       "      <td>Bibb County</td>\n",
       "      <td>AL</td>\n",
       "      <td>8819.0</td>\n",
       "      <td>8400.5</td>\n",
       "      <td>8644.0</td>\n",
       "      <td>7600.0</td>\n",
       "      <td>7055.0</td>\n",
       "      <td>6301.0</td>\n",
       "      <td>6720.0</td>\n",
       "      <td>...</td>\n",
       "      <td>AL</td>\n",
       "      <td>1007.0</td>\n",
       "      <td>161529.0</td>\n",
       "      <td>Bibb County</td>\n",
       "      <td>1.612482e+09</td>\n",
       "      <td>9.287974e+06</td>\n",
       "      <td>622.583</td>\n",
       "      <td>3.586</td>\n",
       "      <td>33.015893</td>\n",
       "      <td>-87.127148</td>\n",
       "    </tr>\n",
       "  </tbody>\n",
       "</table>\n",
       "<p>5 rows × 36 columns</p>\n",
       "</div>"
      ],
      "text/plain": [
       "  County               CountyName StateAbbr  totalvotes_2016  totalvotes_2012  \\\n",
       "0   None  Federal Overseas County        HI              NaN              NaN   \n",
       "1   1001           Autauga County        AL          24973.0          23937.0   \n",
       "2   1003           Baldwin County        AL          95215.0          85353.5   \n",
       "3   1005           Barbour County        AL          10469.0          11508.5   \n",
       "4   1007              Bibb County        AL           8819.0           8400.5   \n",
       "\n",
       "   totalvotes_2008  totalvotes_2004  totalvotes_2000  totalvotes_1996  \\\n",
       "0              NaN              NaN             80.0              NaN   \n",
       "1          23641.0          20081.0          17146.0          15422.0   \n",
       "2          81413.0          69320.0          56128.0          47119.0   \n",
       "3          11630.0          10777.0          10357.0           8953.0   \n",
       "4           8644.0           7600.0           7055.0           6301.0   \n",
       "\n",
       "   totalvotes_1992  \\\n",
       "0              NaN   \n",
       "1          15585.0   \n",
       "2          46476.0   \n",
       "3          10431.0   \n",
       "4           6720.0   \n",
       "\n",
       "                                                            ...                                                             \\\n",
       "0                                                           ...                                                              \n",
       "1                                                           ...                                                              \n",
       "2                                                           ...                                                              \n",
       "3                                                           ...                                                              \n",
       "4                                                           ...                                                              \n",
       "\n",
       "   USPS   GEOID  ANSICODE            NAME         ALAND        AWATER  \\\n",
       "0  None     NaN       NaN            None           NaN           NaN   \n",
       "1    AL  1001.0  161526.0  Autauga County  1.539590e+09  2.576932e+07   \n",
       "2    AL  1003.0  161527.0  Baldwin County  4.117584e+09  1.133129e+09   \n",
       "3    AL  1005.0  161528.0  Barbour County  2.291821e+09  5.086468e+07   \n",
       "4    AL  1007.0  161529.0     Bibb County  1.612482e+09  9.287974e+06   \n",
       "\n",
       "  ALAND_SQMI AWATER_SQMI   INTPTLAT  \\\n",
       "0        NaN         NaN        NaN   \n",
       "1    594.439       9.950  32.532237   \n",
       "2   1589.808     437.504  30.659218   \n",
       "3    884.877      19.639  31.870253   \n",
       "4    622.583       3.586  33.015893   \n",
       "\n",
       "  INTPTLONG                                                                                                                 \n",
       "0                                                NaN                                                                        \n",
       "1                                         -86.646440                                                                        \n",
       "2                                         -87.746067                                                                        \n",
       "3                                         -85.405104                                                                        \n",
       "4                                         -87.127148                                                                        \n",
       "\n",
       "[5 rows x 36 columns]"
      ]
     },
     "execution_count": 129,
     "metadata": {},
     "output_type": "execute_result"
    }
   ],
   "source": [
    "%sql Select * from county_results a left outer join county_location l on l.geoid = a.County order by County\n",
    "%config SqlMagic.autopandas=True\n",
    "frame = %sql Select * from county_results a left outer join county_location l on l.geoid = a.County order by County\n",
    "frame.head()\n",
    "#frame.to_csv('countyForMapping.txt',sep='\\t')\n",
    "##CREATED CARTO DB MAP"
   ]
  },
  {
   "cell_type": "code",
   "execution_count": 154,
   "metadata": {
    "collapsed": false,
    "slideshow": {
     "slide_type": "slide"
    }
   },
   "outputs": [
    {
     "name": "stdout",
     "output_type": "stream",
     "text": [
      "Done.\n"
     ]
    },
    {
     "data": {
      "text/html": [
       "<div>\n",
       "<table border=\"1\" class=\"dataframe\">\n",
       "  <thead>\n",
       "    <tr style=\"text-align: right;\">\n",
       "      <th></th>\n",
       "      <th>StateAbbr</th>\n",
       "      <th>counties</th>\n",
       "      <th>totalvotes_2016</th>\n",
       "      <th>total_votes_no</th>\n",
       "      <th>score</th>\n",
       "    </tr>\n",
       "  </thead>\n",
       "  <tbody>\n",
       "    <tr>\n",
       "      <th>0</th>\n",
       "      <td>NC</td>\n",
       "      <td>100</td>\n",
       "      <td>4741528</td>\n",
       "      <td>682803525</td>\n",
       "      <td>0.019066</td>\n",
       "    </tr>\n",
       "    <tr>\n",
       "      <th>1</th>\n",
       "      <td>FL</td>\n",
       "      <td>67</td>\n",
       "      <td>9420039</td>\n",
       "      <td>546242820</td>\n",
       "      <td>0.012952</td>\n",
       "    </tr>\n",
       "    <tr>\n",
       "      <th>2</th>\n",
       "      <td>UT</td>\n",
       "      <td>29</td>\n",
       "      <td>1131430</td>\n",
       "      <td>682803525</td>\n",
       "      <td>0.010335</td>\n",
       "    </tr>\n",
       "    <tr>\n",
       "      <th>3</th>\n",
       "      <td>NH</td>\n",
       "      <td>10</td>\n",
       "      <td>732267</td>\n",
       "      <td>546242820</td>\n",
       "      <td>0.006160</td>\n",
       "    </tr>\n",
       "    <tr>\n",
       "      <th>4</th>\n",
       "      <td>NJ</td>\n",
       "      <td>21</td>\n",
       "      <td>3874046</td>\n",
       "      <td>546242820</td>\n",
       "      <td>0.006032</td>\n",
       "    </tr>\n",
       "    <tr>\n",
       "      <th>5</th>\n",
       "      <td>CA</td>\n",
       "      <td>58</td>\n",
       "      <td>14181595</td>\n",
       "      <td>546242820</td>\n",
       "      <td>0.005463</td>\n",
       "    </tr>\n",
       "    <tr>\n",
       "      <th>6</th>\n",
       "      <td>OR</td>\n",
       "      <td>36</td>\n",
       "      <td>2001336</td>\n",
       "      <td>682803525</td>\n",
       "      <td>0.004401</td>\n",
       "    </tr>\n",
       "    <tr>\n",
       "      <th>7</th>\n",
       "      <td>IN</td>\n",
       "      <td>92</td>\n",
       "      <td>2734958</td>\n",
       "      <td>682803525</td>\n",
       "      <td>0.004135</td>\n",
       "    </tr>\n",
       "    <tr>\n",
       "      <th>8</th>\n",
       "      <td>WA</td>\n",
       "      <td>39</td>\n",
       "      <td>3209214</td>\n",
       "      <td>682803525</td>\n",
       "      <td>0.003829</td>\n",
       "    </tr>\n",
       "    <tr>\n",
       "      <th>9</th>\n",
       "      <td>DE</td>\n",
       "      <td>3</td>\n",
       "      <td>441590</td>\n",
       "      <td>409682115</td>\n",
       "      <td>0.003725</td>\n",
       "    </tr>\n",
       "    <tr>\n",
       "      <th>10</th>\n",
       "      <td>CT</td>\n",
       "      <td>8</td>\n",
       "      <td>1644920</td>\n",
       "      <td>409682115</td>\n",
       "      <td>0.003226</td>\n",
       "    </tr>\n",
       "    <tr>\n",
       "      <th>11</th>\n",
       "      <td>MI</td>\n",
       "      <td>83</td>\n",
       "      <td>4799284</td>\n",
       "      <td>682803525</td>\n",
       "      <td>0.003187</td>\n",
       "    </tr>\n",
       "    <tr>\n",
       "      <th>12</th>\n",
       "      <td>MN</td>\n",
       "      <td>87</td>\n",
       "      <td>2944813</td>\n",
       "      <td>682803525</td>\n",
       "      <td>0.003049</td>\n",
       "    </tr>\n",
       "    <tr>\n",
       "      <th>13</th>\n",
       "      <td>OH</td>\n",
       "      <td>88</td>\n",
       "      <td>5496487</td>\n",
       "      <td>682803525</td>\n",
       "      <td>0.002626</td>\n",
       "    </tr>\n",
       "    <tr>\n",
       "      <th>14</th>\n",
       "      <td>PA</td>\n",
       "      <td>67</td>\n",
       "      <td>6115402</td>\n",
       "      <td>546242820</td>\n",
       "      <td>0.002571</td>\n",
       "    </tr>\n",
       "    <tr>\n",
       "      <th>15</th>\n",
       "      <td>IL</td>\n",
       "      <td>102</td>\n",
       "      <td>5536424</td>\n",
       "      <td>682803525</td>\n",
       "      <td>0.002464</td>\n",
       "    </tr>\n",
       "    <tr>\n",
       "      <th>16</th>\n",
       "      <td>NY</td>\n",
       "      <td>62</td>\n",
       "      <td>7786864</td>\n",
       "      <td>682803525</td>\n",
       "      <td>0.001835</td>\n",
       "    </tr>\n",
       "    <tr>\n",
       "      <th>17</th>\n",
       "      <td>WI</td>\n",
       "      <td>72</td>\n",
       "      <td>2949311</td>\n",
       "      <td>682803525</td>\n",
       "      <td>0.001790</td>\n",
       "    </tr>\n",
       "    <tr>\n",
       "      <th>18</th>\n",
       "      <td>IA</td>\n",
       "      <td>99</td>\n",
       "      <td>1581371</td>\n",
       "      <td>682803525</td>\n",
       "      <td>0.001754</td>\n",
       "    </tr>\n",
       "    <tr>\n",
       "      <th>19</th>\n",
       "      <td>LA</td>\n",
       "      <td>64</td>\n",
       "      <td>2029032</td>\n",
       "      <td>409682115</td>\n",
       "      <td>0.001643</td>\n",
       "    </tr>\n",
       "  </tbody>\n",
       "</table>\n",
       "</div>"
      ],
      "text/plain": [
       "   StateAbbr  counties  totalvotes_2016  total_votes_no     score\n",
       "0         NC       100          4741528       682803525  0.019066\n",
       "1         FL        67          9420039       546242820  0.012952\n",
       "2         UT        29          1131430       682803525  0.010335\n",
       "3         NH        10           732267       546242820  0.006160\n",
       "4         NJ        21          3874046       546242820  0.006032\n",
       "5         CA        58         14181595       546242820  0.005463\n",
       "6         OR        36          2001336       682803525  0.004401\n",
       "7         IN        92          2734958       682803525  0.004135\n",
       "8         WA        39          3209214       682803525  0.003829\n",
       "9         DE         3           441590       409682115  0.003725\n",
       "10        CT         8          1644920       409682115  0.003226\n",
       "11        MI        83          4799284       682803525  0.003187\n",
       "12        MN        87          2944813       682803525  0.003049\n",
       "13        OH        88          5496487       682803525  0.002626\n",
       "14        PA        67          6115402       546242820  0.002571\n",
       "15        IL       102          5536424       682803525  0.002464\n",
       "16        NY        62          7786864       682803525  0.001835\n",
       "17        WI        72          2949311       682803525  0.001790\n",
       "18        IA        99          1581371       682803525  0.001754\n",
       "19        LA        64          2029032       409682115  0.001643"
      ]
     },
     "execution_count": 154,
     "metadata": {},
     "output_type": "execute_result"
    }
   ],
   "source": [
    "#STATES WITH MOST SWING COUNTIES\n",
    "%sql Select StateAbbr, sum(counties) as counties, sum(totalvotes_2016) as totalvotes_2016, sum(total_votes_no) as total_votes_no, sum(score) as score from (Select StateAbbr,  count(distinct County) as counties, sum(totalvotes_2016) as totalvotes_2016, total_votes.no as total_votes_no, cast(durability as float) *(cast(totalvotes_2016 as float)/cast(total_votes.no as float)) as score from county_results,(select sum(totalvotes_2016) as no from county_results)total_votes  group by StateAbbr, durability,total_votes.no order by score desc) group by  StateAbbr order by score desc  limit 20"
   ]
  },
  {
   "cell_type": "code",
   "execution_count": 135,
   "metadata": {
    "collapsed": false
   },
   "outputs": [
    {
     "name": "stdout",
     "output_type": "stream",
     "text": [
      "Done.\n"
     ]
    },
    {
     "data": {
      "text/html": [
       "<div>\n",
       "<table border=\"1\" class=\"dataframe\">\n",
       "  <thead>\n",
       "    <tr style=\"text-align: right;\">\n",
       "      <th></th>\n",
       "      <th>StateAbbr</th>\n",
       "      <th>durability</th>\n",
       "      <th>counties</th>\n",
       "    </tr>\n",
       "  </thead>\n",
       "  <tbody>\n",
       "    <tr>\n",
       "      <th>0</th>\n",
       "      <td>AK</td>\n",
       "      <td>2</td>\n",
       "      <td>1</td>\n",
       "    </tr>\n",
       "    <tr>\n",
       "      <th>1</th>\n",
       "      <td>AR</td>\n",
       "      <td>2</td>\n",
       "      <td>1</td>\n",
       "    </tr>\n",
       "    <tr>\n",
       "      <th>2</th>\n",
       "      <td>CT</td>\n",
       "      <td>4</td>\n",
       "      <td>1</td>\n",
       "    </tr>\n",
       "    <tr>\n",
       "      <th>3</th>\n",
       "      <td>DC</td>\n",
       "      <td>0</td>\n",
       "      <td>1</td>\n",
       "    </tr>\n",
       "    <tr>\n",
       "      <th>4</th>\n",
       "      <td>DE</td>\n",
       "      <td>0</td>\n",
       "      <td>1</td>\n",
       "    </tr>\n",
       "    <tr>\n",
       "      <th>5</th>\n",
       "      <td>DE</td>\n",
       "      <td>2</td>\n",
       "      <td>1</td>\n",
       "    </tr>\n",
       "    <tr>\n",
       "      <th>6</th>\n",
       "      <td>DE</td>\n",
       "      <td>4</td>\n",
       "      <td>1</td>\n",
       "    </tr>\n",
       "    <tr>\n",
       "      <th>7</th>\n",
       "      <td>GA</td>\n",
       "      <td>4</td>\n",
       "      <td>1</td>\n",
       "    </tr>\n",
       "    <tr>\n",
       "      <th>8</th>\n",
       "      <td>KS</td>\n",
       "      <td>4</td>\n",
       "      <td>1</td>\n",
       "    </tr>\n",
       "    <tr>\n",
       "      <th>9</th>\n",
       "      <td>KY</td>\n",
       "      <td>2</td>\n",
       "      <td>1</td>\n",
       "    </tr>\n",
       "  </tbody>\n",
       "</table>\n",
       "</div>"
      ],
      "text/plain": [
       "  StateAbbr  durability  counties\n",
       "0        AK           2         1\n",
       "1        AR           2         1\n",
       "2        CT           4         1\n",
       "3        DC           0         1\n",
       "4        DE           0         1\n",
       "5        DE           2         1\n",
       "6        DE           4         1\n",
       "7        GA           4         1\n",
       "8        KS           4         1\n",
       "9        KY           2         1"
      ]
     },
     "execution_count": 135,
     "metadata": {},
     "output_type": "execute_result"
    }
   ],
   "source": [
    "#STATES WITH LEAST SWING COUNTIES\n",
    "%sql Select StateAbbr, durability, count(distinct County) as counties from county_results group by StateAbbr, durability order by  counties ASC limit 10"
   ]
  },
  {
   "cell_type": "code",
   "execution_count": null,
   "metadata": {
    "collapsed": true
   },
   "outputs": [],
   "source": [
    "#SAME BUT ADD VOTES as WEIGHT per COUNTY"
   ]
  },
  {
   "cell_type": "code",
   "execution_count": 64,
   "metadata": {
    "collapsed": false
   },
   "outputs": [
    {
     "data": {
      "text/plain": [
       "County           21760\n",
       "CountyName       21761\n",
       "StateAbbr        21761\n",
       "Year             21761\n",
       "WinningParty     21761\n",
       "WinningCounty    21761\n",
       "dtype: int64"
      ]
     },
     "execution_count": 64,
     "metadata": {},
     "output_type": "execute_result"
    }
   ],
   "source": [
    "\n",
    "frame.count()"
   ]
  },
  {
   "cell_type": "code",
   "execution_count": null,
   "metadata": {
    "collapsed": true
   },
   "outputs": [],
   "source": []
  },
  {
   "cell_type": "code",
   "execution_count": null,
   "metadata": {
    "collapsed": true
   },
   "outputs": [],
   "source": [
    "#LINEAR REGRESSION ON CHARACTERISTICS\n",
    "#left outer join dfCC on dfCC.County = a.County "
   ]
  }
 ],
 "metadata": {
  "celltoolbar": "Slideshow",
  "kernelspec": {
   "display_name": "Python 3",
   "language": "python",
   "name": "python3"
  },
  "language_info": {
   "codemirror_mode": {
    "name": "ipython",
    "version": 3
   },
   "file_extension": ".py",
   "mimetype": "text/x-python",
   "name": "python",
   "nbconvert_exporter": "python",
   "pygments_lexer": "ipython3",
   "version": "3.5.2"
  }
 },
 "nbformat": 4,
 "nbformat_minor": 1
}
